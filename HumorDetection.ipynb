{
  "nbformat": 4,
  "nbformat_minor": 0,
  "metadata": {
    "colab": {
      "provenance": [],
      "include_colab_link": true
    },
    "kernelspec": {
      "name": "python3",
      "display_name": "Python 3"
    }
  },
  "cells": [
    {
      "cell_type": "markdown",
      "metadata": {
        "id": "view-in-github",
        "colab_type": "text"
      },
      "source": [
        "<a href=\"https://colab.research.google.com/github/gaurav151411/HumorDetectionInSpeech-NaiveBayes/blob/main/HumorDetection.ipynb\" target=\"_parent\"><img src=\"https://colab.research.google.com/assets/colab-badge.svg\" alt=\"Open In Colab\"/></a>"
      ]
    },
    {
      "cell_type": "markdown",
      "metadata": {
        "id": "VwK5-9FIB-lu"
      },
      "source": [
        "# Natural Language Processing"
      ]
    },
    {
      "cell_type": "markdown",
      "metadata": {
        "id": "X1kiO9kACE6s"
      },
      "source": [
        "## Importing the libraries"
      ]
    },
    {
      "cell_type": "code",
      "metadata": {
        "id": "7QG7sxmoCIvN"
      },
      "source": [
        "import numpy as np\n",
        "import matplotlib.pyplot as plt\n",
        "import pandas as pd"
      ],
      "execution_count": null,
      "outputs": []
    },
    {
      "cell_type": "code",
      "source": [],
      "metadata": {
        "id": "TWOa_HsLNB23"
      },
      "execution_count": null,
      "outputs": []
    },
    {
      "cell_type": "markdown",
      "metadata": {
        "id": "wTfaCIzdCLPA"
      },
      "source": [
        "## Importing the dataset"
      ]
    },
    {
      "cell_type": "markdown",
      "source": [],
      "metadata": {
        "id": "_Du2IDW0N-3v"
      }
    },
    {
      "cell_type": "code",
      "metadata": {
        "id": "UCK6vQ5QCQJe"
      },
      "source": [
        "dataset = pd.read_csv('dataset.csv')\n",
        "dataset = dataset.head(2000)"
      ],
      "execution_count": 17,
      "outputs": []
    },
    {
      "cell_type": "markdown",
      "metadata": {
        "id": "Qekztq71CixT"
      },
      "source": [
        "## Cleaning the texts"
      ]
    },
    {
      "cell_type": "code",
      "metadata": {
        "id": "8u_yXh9dCmEE",
        "outputId": "d059a72e-0d6e-4d5b-981a-e1e2fbe964bf",
        "colab": {
          "base_uri": "https://localhost:8080/"
        }
      },
      "source": [
        "import re\n",
        "import nltk\n",
        "nltk.download('stopwords')\n",
        "from nltk.corpus import stopwords\n",
        "from nltk.stem.porter import PorterStemmer\n",
        "corpus = []\n",
        "for i in range(0, 2000):\n",
        "  review = re.sub('[^a-zA-Z]', ' ', dataset['text'][i])\n",
        "  review = review.lower()\n",
        "  review = review.split()\n",
        "  ps = PorterStemmer()\n",
        "  all_stopwords = stopwords.words('english')\n",
        "  all_stopwords.remove('not')\n",
        "  review = [ps.stem(word) for word in review if not word in set(all_stopwords)]\n",
        "  review = ' '.join(review)\n",
        "  corpus.append(review)"
      ],
      "execution_count": 18,
      "outputs": [
        {
          "output_type": "stream",
          "name": "stderr",
          "text": [
            "[nltk_data] Downloading package stopwords to /root/nltk_data...\n",
            "[nltk_data]   Package stopwords is already up-to-date!\n"
          ]
        }
      ]
    },
    {
      "cell_type": "code",
      "metadata": {
        "id": "KpGWdrzGoAsL",
        "colab": {
          "base_uri": "https://localhost:8080/"
        },
        "outputId": "fecbd0f6-82f6-4b95-f21d-0662a329b147"
      },
      "source": [
        "print(corpus)"
      ],
      "execution_count": null,
      "outputs": [
        {
          "output_type": "stream",
          "name": "stdout",
          "text": [
            "['joe biden rule bid guy not run', 'watch darvish gave hitter whiplash slow pitch', 'call turtl without shell dead', 'reason elect feel person', 'pasco polic shot mexican migrant behind new autopsi show', 'martha stewart tweet hideou food photo twitter respond accordingli', 'pokemon master favorit kind pasta wartortellini', 'nativ american hate rain april bring mayflow', 'obama climat chang legaci impress imperfect vulner', 'famili tree cactu prick', 'donald trump found someth mysteri rudi giuliani', 'donald trump ted cruz love affair relationship', 'want know athlet chose takeakne look broken justic system', 'music candi similar throw away rapper', 'famou coupl help stay healthi fit', 'studi find strong link zika guillain barr syndrom', 'alec baldwin wife hilaria welcom anoth babi boy', 'trump say iran compli nuclear deal remain danger threat', 'kim kardashian babi name realiti star discuss k name possibl video', 'end year relationship fine relationship p', 'oscar nomin look like', 'date tip surpris date show day earli', 'reflect davo leader deliber next climat action pari deal', 'call explan asian cook show wok', 'swim toward brighter futur introduc world autism', 'littl miss muffet gp tuffet keep lose whey', 'pixel simpson real couch gag', 'pant breakaway pant angri enough', 'watch former british open champ make embarrass put fail', 'chrissi teigen grammi dress skintight perfect', 'ugh spill red wine insid tummi', 'next iphon updat help save live', 'celebr fourth juli airport profil', 'big bend u shape skyscrap could becom longest world', 'oscar red carpet stun look academi award', 'jew big nose air free', 'interest fact year actor american tv show australian', 'tell chemistri joke know get reaction', 'arkansa approv law let peopl carri gun bar public colleg', 'set paul mitchel network', 'know diarrhea genet run jean', 'son ebola joke african breakfast ebola cereal kind lol', 'sci fi remak streetcar name desir interstelllllllaaaaaaar', 'call clan barbarian cant see invisigoth', 'know someon use recurs', 'chang around pokemon might peek chu', 'stolen moment week andi ofiesh kaytlin bailey creek cave', 'obama welcom pope franci white hous', 'chicken famili saturday afternoon go peck nic', 'hire clean compani everyon want go green', 'explor america stun marin sanctuari without get wet', 'show life amaz glori', 'jcpenni teenag common pant', 'convers head cackl mirth', 'valentin dinner stress thing not worri', 'broadway star join forc fight north carolina anti lgbt law', 'realli sick make dog birthday cake everi day', 'knock knock cotton cotton cotton trap', 'safer drive flick switch', 'trump refus blame gop not get job done', 'call black guy whose hitch hike strand', 'lebron jame total deni possibl star space jam', 'say minor look seen juan seen jamaul', 'eve ensler want toppl patriarchi revolutionari love', 'yo momma ugli portrait hang', 'kany west open pablo pop shop weekend', 'turn leftov champagn fanci vinegar', 'mesmer time laps video show dad make amaz disney bedroom', 'wife forgot run dishwash', 'resum design eye track studi find job seeker six second make impress video', 'friend deal realli sever viagra addict hard time', 'phil collin cancel comeback show rush hospit', 'nicknam girlfriend melodi loudest alway top', 'member congress call end restrict gun violenc research', 'life let say start lot sentenc let say', 'matter anyon els think', 'imagin good prescript chees would', 'crazi ex girlfriend like box chocol kill dog', 'deeper reason trump taco tweet offens', 'britney spear regular mom love embarrass kid', 'hear fli german pancak ww luftwaffl', 'kellyann conway wear coat stud ahem cat', 'steeler coach incens headset situat gillett stadium', 'flame beauti reflect poet journey', 'two thing learn life aw count', 'canadian armi train week learn throw snowbal', 'black alway back polic car seat', 'ole miss remov mississippi flag confeder emblem', 'cake fix stick pan', 'melania trump davo cancel sublimin messag donald historian', 'ocean water sky blue', 'carol field grandmoth plead guilti set fire across main', 'news report laugh fit live tv video', 'kati perri wear american flag outfit kid inaugur concert photo', 'get sad around holiday alway remind much weight gain', 'start cover band call book one judg us', 'veterinarian accus shoot neighbor dog head', 'christina aguilera alleg new hous come famou neighbor photo', 'met hors keep talk apocalyps told end neigh', 'student comfort word ever hear start either', 'killer cooki sell tactic histori brilliant girl scout', 'watch cinderella backward woman get put place', 'love someth set free unless lion', 'unfair tax system state', 'street franc reindeer live rue dolph', 'death sentenc realli death sentenc', 'beauti quick fix spring allergi attack', 'time machin make happi anti de present', 'trump new militari plan cost billion least', 'white inch long not fluoresc light bulb noth', 'real reason sjw hate gun come trigger warn', 'q chessmast interest foreign women want czech mate', 'olli call manag help outsid store watch', 'jami find cersei long grass satisfi', 'build muscl proven strength lesson milo croton', 'farmer say someth import play big tractor', 'way make home happier relax new year', 'gop rep invit far right troll trump state union', 'jillian michael talk jay leno motherhood video', 'sexi farmer say day brown chicken brown cow swagger bit', 'stephen hawk refresh long day f', 'tori spell dean mcdermott welcom fifth child togeth', 'tuna cheap expens plenti endang', 'simba say dad move slow mufasa', 'get cross eleph rhino elephino', 'lawyer seek releas teen accus kill allegedli abus dad', 'april fool day epic food prank video', 'young girl thick back hair sign spine problem photo', 'execut dysfunct could kid', 'step step guid parallel park park somewher els', 'confus hellen keller give basketbal tell read', 'donald trump say much need investig climat scienc', 'year later monti python writer final wrap quixot film', 'texa pois elect first latina congresswoman', 'water drink fountain tast like penni mump', 'heard want asian version drive alreadi movi call crash', 'bradley cooper suki waterhous back togeth', 'horni pirat worst nightmar sunken chest booti', 'donald trump state visit uk doubt', 'marco rubio slam obama speech fight islamophobia', 'eat fish pregnanc low level mercuri not link autism', 'guy hate christma friend pull amaz prank', 'make oyster rockefel without recip', 'kourtney kardashian pull mean girl move khloe', 'bread factori burn busi toast', 'warrior embarrass laker cement best start nba histori', 'sheet still bed wrong', 'stripper lot like magnet work pole', 'drink smart water think realli help head think thingi', 'miley cyru explain never walk anoth red carpet', 'student loan forev debt', 'hear one transgend student spent junior year broad', 'chicken farmer caus know rais cock', 'ask healthi live get muscl cramp', 'know pal lay damn egg jerk chicken', 'like car like life duti free', 'twitter elit like popular patient asylum', 'cannib dump girlfriend wipe', 'astronaut take mannequin challeng new height intern space station', 'cancel golden girl must devast shoulder pad industri', 'seen stevi wonder new hous well realli nice', 'gay coupl get marri pro hockey arena priest refere', 'republican could protect dreamer want', 'et short co got littl leg', 'tri catch fog today mist', 'barbi never get pregnant ken came differ box badum tiss', 'pride mental health interview trevor project crisi text line', 'stop peopl pleas simpl step', 'thousand new york protest ralli solidar baltimor freddi gray', 'shopper boycott big bad amazon head walmart com', 'young democrat prefer berni sander new poll find', 'look summon australian ever ever felt like', 'alcohol run famili stumbl around break thing', 'sex wed survey find huge percentag peopl hook wed', 'gotham actor donal logu miss child found safe home', 'hear guy whole left side amput yeah right', 'brown sticki not stick beyonc calendar', 'oil new manifest destini stalk great plain north dakota', 'u court hear argument tuesday trump travel ban', 'buy guid find best outdoor patio umbrella home photo', 'f x walk bar bartend look say sorri cater function', 'obama react heard donald trump presid', 'world leader react realiti trump presid', 'frustrat thing world', 'call cow stop produc milk udder failur', 'black men car drive cop', 'cook go jail beat egg whip cream', 'q insect kick wildlif preserv litterbug', 'hear babi born high tech hospit came cordless', 'beyonc amal pregnanc chang world real way', 'break shovel northeast face blizzard winter storm watch', 'campaign manag say donald trump regret', 'feng shui energi year hors', 'santa sack big cum year', 'way becom better risk taker', 'anyon els world end yet mayan', 'ann hathaway golden globe dress rule red carpet photo', 'cock small could use floss teeth', 'never marri woman captain debat team', 'heard pelican bill fit belli', 'hardest part onlin date find someon click', 'mom photograph daughter anim beauti year project', 'mum kill cancer wait dad sagittariu', 'like joke like coffe bland', 'noth say faith god like bullet proof glass pope car', 'real life robot one day enslav human rank', 'insid fight white work class', 'organ space parti planet', 'daniel craig rachel weisz expect first child togeth', 'silent voic one yell loudest unearth spirit within', 'darl beauti woman parti invit guest purpos', 'fifth harmoni lauren jauregui could ami winehous clone', 'queen like princ harri beard go figur', 'knight stop use internet sick chainmail', 'shampoo eye life', 'giant panda longer list endang', 'world seem care refuge olympian', 'medit made simpl learn step back headspac', 'twitter celebr use sit dead month month complet unnot', 'american actual observ memori day', 'four mexican drown weekend newspap headlin quatro sinko', 'alway thought hey least air free bought bag chip', 'mani kid add take chang lightbulb wanna go ride bike', 'exercis could improv brain function among peopl hiv', 'deardebbi millenni women complac reproduct right', 'baltimor quietli remov confeder statu overnight', 'darren aronofski new tv seri break hollywood playbook climat chang', 'alway want self confid well look actual', 'girlfriend fire crotch scientif known chlamydia', 'gay guy good move use get shit pack', 'call rich frog gold blood reptil', 'craft day creat clay catch plate key', 'mark zuckerberg priscilla chan announc birth girl open letter', 'timelin morn paper', 'forgiv perfect gift day year', 'seduc fat person piec cake', 'hope rapidli click arrow googl street view count jog', 'vergara v california decis teacher tenur not problem', 'went doctor offic flu shot promis hurt insensit prick', 'ever smell mothbal get littl leg apart', 'ruin friend group alway suggest start band earli', 'call oper rabbit hare cut', 'favorit zootopia bunni take eleph size case cute delet scene', 'budget airlin new rout lead urban asia', 'congress expect vote budget avert govern shutdown', 'forget bald guy live vicari beard', 'chicken cross mobiu strip get side', 'bill maher explain fiscal cliff call carbon tax', 'bit advic advi', 'counselor say hologram project star trek voyag', 'kamikaz sex go come', 'dracula favorit pud leech scream', 'search underway miss tennesse toddler noah chamberlin', 'jane fonda helen mirren stole show pari fashion week', 'doctor say speed commut thank patient', 'lawyer orthodontist got retain', 'hear bird want go drink end crowbar', 'sorri go tonight internet', 'gynecologist take look', 'mom use face paint skill turn kid someth magic', 'gotta nice mortician peopl alway die meet', 'call chicken north pole lost', 'rate nanci drew book read goodread look like smart someth', 'watch misti copeland danc heavenli sound cynthia erivo voic', 'want clickbait want answer shock', 'texa raid plan parenthood offic across state', 'call wolf wolf goe wolf', 'dick cheney iran deal lead first use nuclear weapon sinc hiroshima nagasaki', 'vegetarian give good head use eat nut', 'jennif aniston style evolut hollywood actress alway look effortlessli chic photo', 'digit ident onlin', 'dog vacuum want reward', 'ncaa pull championship event north carolina anti lgbt law', 'what differ dawn dusk sun dt facepalm see', 'call get stuck shotgun wed czech checkmat', 'women histori month artist celebr whm marlen duma eight heart', 'girl catch pound bass barbi fish pole ador father daughter adventur', 'hard pink pig flick knife', 'tampon white women common stuck cunt', 'year brown v board america school board call vigil', 'peopl like slipperi slope argument call slipperi slope fallaci', 'disneyland travel offici unoffici street insid disneyland photo', 'fruit veget hybrid upset melon cauliflow', 'call racist th centuri artist oppressionist', 'attack pack clown go juggler', 'much pirat pay ear buck ear', 'civilian death toll mount iraqi forc push mosul', 'step step vacat mountain', 'step add joy life', 'hotel steal columbu day weekend beyond', 'lanvin summer ad hope like snake video', 'pirat favorit sexual partner legal consent retarrrrrrrrd', 'knew come crawl back minut stole wheelchair', 'fix common garden problem use technolog', 'black man walk bar bartend say get', 'potenti pick solicitor gener remov name consider', 'stoplight say car look chang', 'invit someth environ', 'trevor noah trump first week prove bad businessman', 'leader oakland artist collect spark outrag focus deadli fire', 'time stop call black protest unpatriot', 'call mother law black jack wanna hit sometim cant', 'mother overprotect allow play rock paper', 'elect mean c art commun', 'guy found new great birth control call pregnant women post pictur facebook', 'joe kennedi iii reveal gop counterpart realli feel donald trump tweet', 'yo momma fat she got coverag cell phone provid', 'gay holiday tip enjoy come', 'two four letter word offens men stop', 'everyth thought knew laundri wrong', 'autopsi dismal second season true detect', 'grandpar use kiss tongu probabl', 'rose red violet blue wait fuck black', 'knock knock alzheim alzheim knock knock', 'walmart worker plan black friday protest wage', 'sunday show book ordinari american discuss budget', 'mubarak case trial egypt revolut', 'germ cross microscop get slide', 'full list beef product recal weekend', 'planet give crap uranu', 'homework teacher way know smart parent', 'know world popul suck fraction', 'differ oral rectal thermomet tast', 'congressman chri christi stop use intern murder polit gain', 'chri christi realli realli like bruce springsteen born run', 'two mice chew film roll one goe think book better', 'record show numer complaint offic stage suicid', 'nation eat disord awar week get know', 'bryan cranston move canada trump get elect next week', 'worker die minnesota vike stadium construct site', 'margaret sullivan took new york time public editor role digit age', 'complet guid fall tv premier', 'cliveden hous new foot slide insan photo', 'disturb report make compel case decrimin drug possess', 'red neck celebr halloween pump kin', 'differ cow bibl milk cow year', 'crack dawn probabl good crack get midnight', 'meet mother daughter duo brought elf shelf life big way', 'noth creepier drive next someon highway exact speed', 'harri potter play magic record break turn award show', 'winter storm bring ice freez rain central u', 'cubicl must full ghost owl hear booo hooo', 'farmer wife ran farm equip salesman wrote john deer letter', 'vladimir putin deni donald trump reveal classifi inform russia meet', 'ukrain crisi caus west putin', 'imagin masonri wall pictur one piec friend mental block', 'hear helen keller atheist guess never saw light', 'leper say prostitut leav ill back tomorrow', 'mirabegron overact bladder drug work liver heart concern rais', 'purs give back pain way fix', 'brief travel guid republ macedonia', 'gay rapper releas first music video sinc gay bash broke facial bone', 'mitt romney get tax rate claim america depend', 'ultim groceri cheat sheet busi parent', 'top way member congress like toddler', 'white christma weather new york pennsylvania new jersey may see holiday snow', 'top tip pick right cruis stateroom', 'realli bad school fail math mani time even count', 'q bill clinton cross road meet chick', 'hillari clinton favorit dice game benghahtze', 'man blind eye form bond unwant puppi born eye', 'borg procreat natur prefer artifici assimil', 'illuminati smell like new world odor', 'clitori anniversari toilet common men usual miss three', 'call chines millionair cha ching', 'happen gop deep bench governor', 'treebeard say took piss releas riverrr', 'show scrub bullshit not one person hospit join song danc number', 'jare fogl get rounder may go full circl', 'bioengin tree could reviv america vast chestnut forest', 'lanc armstrong reportedli buy new home austin lake texa photo', 'great news quit cunti whole world stop', 'weed activist democrat convent celebr progress style', 'know saturday shitti alway turd', 'physic attract american annual medic exam', 'week pint size style crush cutest thing see day', 'dark humor like food peopl get', 'mexican play uno steal green card', 'guy drove expens car tree learn merced bend', 'occupi louisvil protestor arrest clash polic chase bank kentucki', 'artist spend hour resurrect centuri old tradit tapestri make', 'daili nap improv overal health well', 'call punch kill kid adult sandi hook', 'kri jenner turn way drunken valentin day karaok', 'health climat chang urgent need action', 'littl danc drink lot rum fall tonight', 'happen gun kept randomli shoot got fire', 'man fatal shot polic respond burglari home', 'brief histori time disneyland employ live mermaid', 'cheerlead get magic aid magic johnson', 'trump pick trade firm founder vincent viola armi secretari', 'hole nudist camp wall polic look', 'nonprofit risk crisi manag challeng st centuri', 'hear skinni guy visit alaska guess came back huski fucker', 'offens refer egyptian mummi', 'pizza zoodl fabul way use pesto', 'chicken cross road aristocrat', 'type peopl one understand binari one', 'leav next gener empti bag big mop', 'complex handshak less complex individu', 'diari young profession dang network', 'lettuc favorit veget co', 'let say goodby terribl beauti trend', 'dog love take bubbl bath shampoodl', 'nation war ever end', 'women clinton sander campaign alleg sexual harass', 'commun collect joomi lim bracelet buy orthoped dog bed senior pooch photo', 'call dinosaur explos diarrhea shitti sore ass', 'cafe pumpkin spice puppi', 'ask french friend watch superbowl said bowl not big europ', 'republican want answer trump comey fire', 'would never buy plastic print car unless came ab', 'way better relationship food', 'peopl overr not citi brief retort david landsel', 'cowork hey two favorit peopl ask question', 'johnni tyron take color tyron', 'way connect die love one', 'guy walk bar said ouch', 'drunken cat pope common cathol', 'stevi wonder see mate marri', 'jack ryan shadow recruit perfect lead man chri pine', 'fat joke children movi lot common think', 'murdoch own ny post urg trump act gun control stop slaughter', 'lot common brake rotor warp bare function', 'thought twerk tweet work loop', 'friend woke morn fit laughter think must slept funni', 'santa clau obes santa get fatter may bad influenc children', 'lazi bought black snuggi funer', 'saw group children cri visit kiev said ukrain', 'nasa spent mil pen work space russia putin pencil', 'hear call new dog breed israel penni pinscher', 'one diet cure diseas part', 'realli glad invent shampoo imagin wash hair real poo', 'reason zika viru becam pandem', 'shade grey nfl commission exempt list', 'un instal leagu legend pass exam expect', 'name eras confid get smaller everi time make mistak', 'black panther femal warrior take center stage new spinoff', 'thing know love parent', 'call four rat mathemat equat quadrat equat', 'yesterday gave seat blind man today lost job bu driver', 'call short mexican paragraph he not full essay yet', 'appl eye fix chip flaw leav consum without secur web brows', 'dark humor like food not everyon get', 'mani good trailer good movi', 'press play polit struggl compos georgian weapon russia', 'jame brown imperson south korea known godfath seoul', 'differ trump bush trump build tower bush knock', 'book keep fall head got myshelf blame', 'circumcis redneck kick sister chin', 'neighbor kid said love sneaker huge van', 'cant believ ashton kutcher made appl comput iphon thank ashton', 'madonna said ask drake good kisser', 'everi way mac chees burger photo', 'lucasfilm disney fond ami schumer gq cover', 'men receiv compress porn file alon unzip', 'happen cal show crap femal report deal', 'complet full year record hot month', 'eu want u spi european citizen', 'fun game someon lose cant play scrabbl anymor', 'ye absolut want hear cat medic', 'fish tri catch human would sport call bass murder', 'hobo get christma noth', 'want china town today saw lot wang', 'q old tyrion lannist peter dinkl age', 'dear sepp blatter one robert mugab truli life', 'friend quinn sam life learn disabl video', 'pinocchio lizard rediscov ecuador thought extinct year', 'porn actress confirm trump affair unpublish interview', 'chewbacca got chewbacca mom mask', 'samantha bee goe full schoolhous rock video rape kit bill', 'parrot teach say know buri bodi', 'white friend guess could call crackalackin', 'cara delevingn get candid battl depress', 'legendari weekend like neil patrick harri drink', 'tip good tip take kid eat', 'biggest jew concentr air', 'hit car want go road', 'evolut real come monkey still throw poop underhand', 'hi go tell dad joke hi im go tell dad joke dad', 'univers illinoi chancellor resign follow multipl controversi', 'okay laugh hitler joke consid vorst', 'know cool job mirror inspector could realli see self', 'know lion eat raw meat lion know cook', 'michel obama let move tour two outfit one day photo', 'britain largest cave gape gill magic explor', 'man walk bar goe right he', 'reuter journalist leav iraq threaten stori', 'chuck norri step toe chuck norri step neck', 'babi realli expens one babi r us price tag', 'cat overweight big bone vet dog', 'know cat communist ever say mao', 'say lasagna say spaghetti cake year old eat lasagna', 'evolv egg sandwich five easi step', 'might worst slide world', 'adam palli escort offstag trash terribl award show present', 'abstin make arm grow stronger least one anyway', 'reindeer wear sunglass beach want recognis', 'ecuador alway ultim retir', 'jon stewart farewel fox news adio motherf ker', 'new drug approv six year low u', 'celebr divorc surpris split summer', 'mayor want citi first u supervis heroin inject site', 'stop worri love artifici intellig', 'sprout home plant week chines lantern', 'round hard full acid semen jewish submarin', 'best thing sex twenti nine year old twenti', 'made plan exercis friend go get car accid', 'struggl talk teenag greatest lesson ever learn', 'price differ near ident bag astound', 'iphon titan common end jack', 'dwayn wade ex talk custodi battl dr phil', 'put phone airplan mode find', 'wife seat hamlet b wife peopl hamlet not b', 'dad fake movi poster give bedtim toddler dramat treatment deserv', 'joke weigh pound comb red hair fork princess arieleph', 'sharp injuri could pose hiv hepat risk surgeon', 'seth rogen siriusxm press tour steve bannon', 'what devil favorit meal fillet soul', 'clair dane hugh danci shine emmi', 'white hous wannab draw battl line furiou money chase', 'know mani heart attack fake sent', 'best friend death wish wed', 'hear john wayn bobbit got peni cut redickless', 'donald trump hilari clinton boat sink surviv america', 'welcom drug club todd believ someon actual answer ad arrest', 'snl benghazi cold open jodi aria help gop lawmak boost rate video', 'fear dark realli irrat', 'u k reject petit protect women forc wear heel work', 'today gener omg parent never let anyth via iphon', 'blind peopl go skydiv scare crap dog', 'blond pull dildo came pill', 'spotlight athenahack femal hackathon import', 'new program seek make democrat campaign divers voter', 'guy not draw circl point', 'man jaywalk got entir left side bodi ran right', 'call man open car door chauffeur', 'duck get arrest smoke quack', 'shade gray worst set crayola color pencil', 'not doctor play one eharmoni', 'toy never buy jewish child bulldoz', 'need know travel england', 'lone ghost morn made booo ty call', 'bank execut attempt keep dui paper backfir spectacularli', 'call joke wrong punchlin get side', 'spray paint stripe simpl clutch diy video', 'make fun signific love hunger game mockin bae', 'would name rock femal rockel', 'tree fall forest make sound univers use lossi compress', 'sweet cake melissa oregon bakeri deni gay coupl wed cake close shop', 'new alleg photograph terri richardson sexual assault design studio doorway', 'chines gay man dinner goo sum yung gai', 'aasif mandvi think resist come fight hardest', 'archivist dilemma q oddbal film stephen parr', 'scream scream scream ice cream man kidnap us pleas send help', 'detox rupaul drag race discuss passion fashion', 'popular throwback jersey state', 'muscl mass made easi two train method beginn', 'alzheim patient celebr new year kiss stranger', 'back hair shave jame corden imag masterpiec', 'jewish man told knock knock', 'pregnant meteorologist address bodi shamer impass speech', 'music marriag propos man stage broadway flash mob chicago video', 'bill maher take hors meat scandal slam california vote gmo label prop video', 'stop everyth beauti beast theme cruis happen', 'call crappi busi man entremanur', 'vermont deficit disord find peac green mountain photo video', 'marco rubio deleg probabl still vote', 'hot stadium footbal game fan left', 'photoshop pictur donald trump freak everyon', 'chicago cub star bill murray make real song danc snl', 'radioact sampl say radioact sampl idk', 'iron four leaf clover want press luck', 'scare lift guess take step avoid', 'hous democrat conven hear talk donald trump conflict interest', 'alabama world biggest sandwich whole state inbr', 'doggi style sometim like tv show', 'build time machin take time rush', 'make ai blockchain boost global trade', 'know worst thing sex part buri afterward', 'parent say school leg ban unfair girl contribut rape cultur', 'summer wackiest art news stori', 'call sick pokemon pikachoo', 'boko haram kill doubl past month amnesti intern report', 'chines exclus act help us understand immigr polit today', 'three pope walk bar wow place popeular', 'wife boss name adolfo wonder famili alway doll', 'wrote autobiographi bet sell stori life', 'travel like queen royal famili favorit hotel photo', 'god adam look kind lone frog ribbit god haha alright man', 'happen bill gate get mad get philanthro piss', 'like drug peopl drug hobbi', 'know anyth patient', 'patriot devin mccourti not visit white hous feel accept', 'mayb swallow enough magnet becom attract', 'drink soda caus depress not fast', 'putnam path forward kid start upsid tax code', 'let greta gerwig ellen burstyn teach art name wiener dog', 'hillari clinton announc vagu plan donat harvey weinstein campaign money', 'jesu walk bar real', 'democrat parti chair winner first round ballot', 'wanna hear construct joke sorri still work', 'would happen disney princ queer hit town nsfw', 'soybean meal peptid could stop colon liver lung cancer growth', 'hear offspr song store mummi gotta keep em desicc', 'two snare drum cymbal fall cliff bah dum tssh', 'jonathan knight boyfriend join cast amaz race', 'kind shoe thief wear sneaker', 'seth meyer decod pee tape news oh god real', 'differ hand towel toilet paper come hous', 'one taiwan polici let take chines', 'season trailer unbreak kimmi schmidt', 'countri hate america wall st', 'everi olymp event includ one averag person compet refer', 'way trumpland elector colleg clinton watch vote recount', 'mind matter told thank gold stranger edit front page much wow', 'order non fat pumpkin spice latt drive priu zumba instructor', 'stop take live grant', 'took bra chip fell plot twist eat chip', 'window feel get hurt pane', 'maria sharapova hair tenni star chop photo', 'stephen colbert sum donald trump first day second', 'andrea casiraghi tatiana santo domingo marri mont carlo photo', 'colin firth among men say work woodi allen', 'took huge shit know belong took', 'boy grew hair two year could donat friend', 'ken burn roosevelt reveal everyth wrong current polit class', 'lesbian superstiti alway knock wood', 'shaq provid surpris backup kid basketbal game polic', 'yesterday offici david bowi day new york citi', 'seen new movi constip come yet', 'bet church never imagin even possibl twerk amaz grace', 'uggi dog artist dead', 'american black film festiv announc film lineup', 'got grade back comput scienc class appar got c final', 'ken cuccinelli say black live matter insult white peopl', 'anti slaveri boy hate laundri', 'red sweater need look like nation treasur kenneth bone', 'say baghdad instal mani garbag can bin laden', 'three ring marriag engag ring wed ring suffer ring', 'man invent jigsaw die may rest piec', 'new york stonewal inn continu vie nation honor', 'becam father late last night reddit best dad joke', 'mike penc peac outcom korean peninsula still possibl', 'homeless got christma hypothermia', 'differ lanc armstrong adolf hitler hitler finish race', 'watch gregg popovich take report question serious', 'spot cheetah wild alreadi spot', 'call titti fuck underwat breast stroke', 'santa favourit chines dish beef ho fun', 'power ghoul judg dread', 'man allegedli imperson justin bieber charg sex crime', 'make good movi better add adam sandler', 'recov addict addict hokey pokey turn around', 'russel simmon say hollywood segreg cost money', 'babi amaya asleep favorit song gangnam style play video', 'call bald nativ american patchi', 'get cardio sex fat', 'thought idea make guest love wed', 'last hot dog roller peopl', 'gotta stop live everi day like could last hangov kill', 'display braveri skill femal surfer fight', 'erdogan alli take turkey new prime minist', 'learn becam exot dancer', 'draymond green intent take anoth thunder player', 'cape town weather report even penguin cold', 'napoleon dynamit want pedro tot new ad burger king', 'turkey melt coup news spread turkish lira tumbl', 'hannah thoma littl bit countri littl bit rock roll', 'gop senat harsh word parti plan parenthood fight', 'respons trump execut order immigr chicago muslim commun', 'brand spotti histori femin cash intern women day', 'plane make unschedul land due alleg masturb', 'pessimist not sex long time optimist sex long ago', 'get know noah solloway stun new love interest affair', 'rock band get seriou trebl fail consist bassist', 'sure mainli use knife emoji least repli text', 'heard helen keller okay fellow redditor neither', 'cop cam chang polic mayb not way think', 'what problem feminist picnic none make sandwich', 'call fish eye fsh', 'treasuri depart renam build honor emancip slave', 'littl girl first interact sanitari pad thing beauti', 'three type peopl world count', 'jon stewart accept final emmi daili show outstand varieti talk seri', 'mankind ever fallen short potenti second vers first', 'saw someon litter pictur kim kardashian waist', 'get exercis rut', 'huffpollst valentin day poll never knew need', 'know say necronomicon real cult classic', 'love milk got lot cowcium', 'obama declar emerg michigan flint water crisi', 'harri potter favorit way get hill walk jk roll', 'fbi director comey alter outcom presidenti elect', 'call shirt hate cloath', 'enabl anyon anywher help mother global samahop', 'german polic foil berlin half marathon knife attack report', 'joe biden even democrat sophist jerk middl class', 'make move reit activ investor role', 'circumcis redneck kick sister jaw', 'berni sander propos new rule requir fair price taxpay fund drug', 'gop want weaken safeti rule chemic plant issu deadli texa explos', 'video strawberri journey farm surprisingli move', 'simon doonan teach conan brien man boob talk gay men get fat video', 'privat sector tackl educ emerg economi', 'like girlfriend like scotch year old coke', 'act age not sperm count caus otherwis old ball', 'cent say grandma crochet sweater g knit', 'said said mom call demand royalti check', 'germani want european nation take refuge', 'dishwash stop work beat start', 'hear constip chancellor exchequ budg', 'know someon vegan oh worri fuck tell', 'dash say fail exam underscor', 'make dead babi float easi add root beer ice cream', 'infograph step roadmap unlock potenti', 'red list endang ecosystem propos intern union conserv natur', 'exercis medicin rx better america', 'white hous approv suppli weapon ypg fighter syria', 'call chicken veget bawk choy', 'turn bag pretzel legitim fanci holiday gift', 'kelli armstrong case victim famili claim victori murder charg travi funk', 'hitler kill got ga bill', 'donut scent car air freshen go pay next time get pull', 'name berri dickenson shitti oc wish buri dick son', 'heard magic tractor went road turn field', 'choke viagra morn stiff neck hour', 'homophob rapist black man walk bar bartend say kobe', 'islam margin women special shiit', 'kim burrel hide behind bibl cowardic unworthi hidden figur', 'trump claim never met woman accus sexual assault trump tower', 'say want pedophil least go speed limit school zone', 'el chist hear mexican serial killer loco motiv', 'eva longoria school donald trump power person dnc speech', 'tran woman facebook censor breast', 'chuck schumer say point congress legisl renew health fund', 'first hous dem call rep conyer resign', 'britney spear go use toilet test mod plz delet omg', 'white peopl colon enslav world search spice use damn one', 'seen whole famili sinc last year', 'effect way rememb wife birthday forget', 'model million estat limbo sinc could never wed partner', 'sarah hyland emmi dress green gorgeou photo', 'pregnanc discrimin workplac target new eeoc crackdown', 'climat chang fuel violenc women', 'termit walk bar say bar tender', 'sale yr old bmw turn signal like new', 'meatloaf blow mind grill', 'tell cow way mooooooooooooov', 'amazon sell cop facial recognit tool bad potenti racist move', 'chicken hair comb one fowl swoop', 'think go day trip know get lsd', 'perfect date question ask girl twice come insid', 'know hitler like eat meat vegetaryan', 'santa sack huge come year', 'fish keep money river bank', 'pope franci say open studi whether women serv deacon', 'q call beaten politician donald trump', 'th reunion first rule admit recogn old pal', 'pharrel happi bump pitbul ke ha uk chart top spot', 'charmin tri get us comfort bear hello eat peopl', 'gop senat candid roy moor pull gun campaign ralli', 'black sport journalist allow say trump race', 'white hous lockdown obama not ground', 'spring clean live room easi checklist photo', 'fire saudi hospit kill least injur', 'call slow transgend translat', 'gift keep give aid', 'aveng age ultron meet wizard oz dream come true', 'knock knock grandpa wait stop funer', 'love breast best part bird', 'fat chick mope common fun ride friend find', 'find dead comedian funni probabl post humour', 'trump bulli consequ wakeup call iran north korea mani other', 'got let meet dentist black peopl', 'mouth teeth riddl q mouth teeth river', 'race two ball string tie', 'saint west ador littl babi angel kim kardashian snapchat stori', 'paula patton open split robin thick', 'got great joke solips tell', 'call float potato levi tater', 'deer get mar elop', 'fcc complaint minut interview stormi daniel', 'babi corn say mama corn popcorn', 'top afford small citi accord cnn money photo', 'two secret life first never tell anyon everyth know', 'get cow barn put bingo sign', 'cashless toll road prolifer rental car fee', 'ebola us polic common high bodi count black peopl', 'taraji p henson star fox hidden figur', 'weird peopl protest art perform featur liter bull blood', 'someon call today book turn larg print', 'comedian tracey ullman need women studio system', 'say canadian listen nunavut', 'russian burglar russian burglar wear russian accent robber boot', 'larg bird hide bush call lurkey turkey', 'rebuild secur role arm control east west relat', 'medium cross road get side', 'moonshin around world probabl make blind', 'footbal ground odd sit stand stand sit', 'like medicin convers premier j croce', 'introduct conclus break never page', 'kind tree like high five palm tree', 'way strengthen relationship', 'facebook need alreadi seen twitter button', 'must econ homework sever depress', 'hidden camera experi show kid interact gun frighten', 'count number time chernobyl one hand', 'like somebodi hate everyon everyth', 'count bless', 'know year old vagina tast like depend', 'brand turn beauti routin activ', 'lamin devic sound lot danger babi sheep actual', 'jack white karen elson divorc take bad turn restrain order', 'airlin passeng get spectacular show fli southern light', 'day night outfit easi transit spring piec stress free dress photo', 'call hispan ga cabron dioxid', 'duck sausag would call cajun sausag made anim young duck huey louie andouil', 'need new emoticon not v v', 'would fear', 'agre zombi come feed em teenag first right', 'much money ceo make typic american', 'two snare drum cymbal fall cliff ba dum psshhh', 'someon window team microsoft get fire would say defenestr', 'brain everyth case noth', 'kate upton leak super bowl commerci almost expect video', 'healthi herb use', 'rememb pearl harbor get bomb even', 'anti trump anger energ rhode island pass paid sick leav', 'buckwheat convert islam known kareem wheat', 'yoga journal day challeng day yoga rest sleep jason crandel video', 'chanc share romant meal chri pratt', 'get guitarist joe beck leav shine legaci', 'artist transform two face make doubl take', 'guitarist say magician pick chord chord', 'ghost floorboard invis town fire island', 'gay travel great destin still closet photo', 'orlando massacr much wake call hate', 'top mistak men make date divorc', 'summer estat lavish pope open tourist', 'connect brain left right hemispher strengthen children sleep studi find', 'two way fight spicer danger ban news media', 'vanna white touch heart one letter time', 'q blond put light bulb keep break hammer', 'yo mama fat sit space time caus gravit wave', 'chipotl outbreak scare custom away fast food gener', 'coupl ask friend famili member marri', 'ellen degener tessa virtu scott moir play definit not date game', 'practic mind may reduc adhd behavior increas attent young student video', 'gift mom beauti idea score major point photo', 'bradi bunch cast cast semin blend famili sitcom', 'trigger orlando nightclub shooter reveal motiv polic negoti', 'teacher call go bathroom call bore gonna go wander around school', 'best way attract pervert nsfw tag freak', 'attack orlando lgbt commun grow stronger', 'year old sell hot chocol donat profit hospit save friend life', 'like women like like cake mix ultra moist white', 'would call flinston black nigger', 'never trust atom make everyth', 'lion get lost co jungl massiv', 'rob kardashian troll famili blac chyna instagram post', 'see trump like nation indonesia', 'fit three gay men bar stool flip stool', 'kind coffe peg leg pirat drink decalfin', 'guy becom insensit masturb much', 'knock knock pilot let', 'black kid get sat barbecu sauc', 'donald care donald watch donald look way donald duck', 'get anxiou least piec advertis within field vision', 'kri kobach found contempt not clarifi peopl could vote', 'chuck norri jump start car use jumper cabl attach nippl', 'nobodi ever explain simil honestli cannot tell like', 'appli everi type blush even tricki liquid one', 'never drink alon nicknam ice cube', 'biggest mistak trainer see gym', 'one thing like facebook space', 'need new artichok recip found best', 'friend damian crazi appl product macadamian nut', 'call someon without shin toekne', 'boy arm get christma know open yet', 'cannib get home late dinner cold shoulder', 'tax return audit ir', 'test bake soda bake powder fresh', 'get wink harass work', 'call insect talk breath mumbl bee', 'makeov video firefight trade makeup look day night glamour', 'palestinian taylor swift similar shake', 'tini home infograph show percent small space dweller mortgag', 'stop bite nail break stress habit', 'l hughley obama aspir trump', 'kate upton score vogu uk cover januari photo', 'call fruit studder peach impedi', 'singl gene may hold key life', 'luke tri open pull door push extrem confus luke face', 'whoa calm person actual swim swim pool', 'eu expect make big push welcom refuge', 'test winter stomach bug iq fact myth noroviru', 'get cross peni potato dicktat', 'sound die turkey make coup coup coup', 'harri reid troll mitch mcconnel suprem court nomine', 'miley cyru bring cigarett haircut bra nyc photo', 'figur talk girl walk press', 'titan stop put first date iceberg said tip', 'yasiel puig surpris littl leagu team pitch kid practic video', 'one night stand berni support know feel bern', 'chicken cross road much pride side', 'tini harri reportedli file divorc six year marriag', 'not joke chuck norri honorari texan', 'venu fight bitter end lose quarter final battl pliskova', 'han solo favorit type video game first person shooter', 'lincoln win like dvd put substitut teacher', 'american cancer societi request research sugar sweeten beverag', 'differ light hard well sleep light', 'musk miss piec tesla insid share insight', 'helen marouli beat legend win first u gold women wrestl', 'get push piano mine flat miner', 'not love want good time without', 'landfil hooker common uncov load cost doubl', 'real aunti ann use pretzel save marriag', 'man act uneth tell girlfriend date men', 'differ tiger wood princess diana tiger wood better driver', 'tell ladi gaga dead poker face', 'kinda bullshit carpent ant even build ikea furnitur', 'man name isaiah eye patch chang name saah', 'two duck walk bar third duck duck', 'king trident say step whale poop oh carp', 'unicorn hair definit extra', 'kim kardashian flash underwear could realli use slip photo', 'guy work alway put sweatshirt one ever seen face', 'hippo go school hippocampu', 'latest battl dad blog war', 'ran campsit never run campsit alway past tent', 'geniu name news feed facebook not bullshit', 'mom enlist live band wake daughter school', 'trump lift ban import eleph trophi african nation', 'disney reveal open season star war theme park land', 'call fast zombi zoombi', 'miss chees go dairi free without go flavor free', 'see guy skinni jean wonder ball fit', 'solang knowl talk michel obama style lose fashion photo', 'meek mill docuseri execut produc jay z come amazon', 'get cross folger smucker smolger lt lt', 'one month offic get sink feel', 'dh staffer leav sensit document airplan found cnn employe', 'one moment need see last night peter pan live', 'rapper need umbrella fo drizzl', 'faux fur collar fit onto jacket make winter dream come true', 'hillari clinton lead greater portion poll obama last two elect', 'worst veget boat leek', 'protect project person brand', 'muslim brotherhood terror design lead witch hunt right group say', 'bomb program design weapon industri', 'whenev get call boss offic entir facebook career flash eye', 'way stop angri black woman', 'donald trump secur deleg need clinch gop presidenti nomin', 'kind grass cow like moot point', 'fish skeleton say long time sea', 'best burrito america', 'georg clooney oprah tom hank lister rais million hurrican relief', 'first presidenti debat watch histori', 'donald trump agre sit interview nemesi megyn kelli', 'priest rapist pedophil walk bar order drink', 'shepherd find sheep tall grass satisfi', 'call virgin mobil nun wheelchair', 'nifti littl item never pack', 'sea salti land wave back', 'heard paralymp basketbal player selfish never pass dribbl', 'nourish mom green smoothi big dream', 'two submiss sit tree n h n g', 'chef ask leav dinner tabl say gourmet excus', 'southern gentleman say prostitut hello', 'girl say vulgar call vulgirl', 'rememb blow bubbl child told tell see said hello', 'martin malley suggest candidaci like obama', 'famili start catch die excus', 'friend time usual go bed ish sometim', 'one thing would never give give rat ass', 'elizabeth jame show pajama fall stylelist network', 'vinc low pay homag famou dyslex realist scribbl sketch photo', 'facebook biggest whistl blower tell peopl saw messag', 'pink floyd dale earnhardt common biggest hit wall', 'depress plankton krill iself', 'magician pull rabbit hat experiment psychologist pull habit rat', 'forget freshman trump', 'harsh realiti women face come home war', 'type oxi recoveri movement need', 'estoy embarazada mi amor estoy embarazada que te gustaria que fuera una broma', 'aegelin identifi harm ingredi oxyelit pro', 'guardian galaxi movi marvel announc newest film comic con', 'pant also iphon greas wipe', 'worst part beaver lot dam work', 'law student walk bar say shit prepar', 'dirti dozen ewg reveal list pesticid heavi fruit veggi', 'pay big hand dead leav', 'brick click merg geek discov polit', 'life like bicycl black probabl take', 'sith shop darth maul', 'happen boy come girl hous noth came hous', 'donald sterl say racism not problem like mosquito say malaria not problem', 'rebuild countri boost good job not privat scheme']\n"
          ]
        }
      ]
    },
    {
      "cell_type": "markdown",
      "metadata": {
        "id": "CLqmAkANCp1-"
      },
      "source": [
        "## Creating the Bag of Words model"
      ]
    },
    {
      "cell_type": "code",
      "metadata": {
        "id": "qroF7XcSCvY3"
      },
      "source": [
        "from sklearn.feature_extraction.text import CountVectorizer\n",
        "cv = CountVectorizer(max_features = 1500)\n",
        "X = cv.fit_transform(corpus).toarray()\n",
        "y = dataset.iloc[:, -1].values"
      ],
      "execution_count": 19,
      "outputs": []
    },
    {
      "cell_type": "markdown",
      "metadata": {
        "id": "DH_VjgPzC2cd"
      },
      "source": [
        "## Splitting the dataset into the Training set and Test set"
      ]
    },
    {
      "cell_type": "code",
      "metadata": {
        "id": "qQXYM5VzDDDI"
      },
      "source": [
        "from sklearn.model_selection import train_test_split\n",
        "X_train, X_test, y_train, y_test = train_test_split(X, y, test_size = 0.20, random_state = 0)"
      ],
      "execution_count": 20,
      "outputs": []
    },
    {
      "cell_type": "markdown",
      "metadata": {
        "id": "VkIq23vEDIPt"
      },
      "source": [
        "## Training the Naive Bayes model on the Training set"
      ]
    },
    {
      "cell_type": "code",
      "metadata": {
        "id": "DS9oiDXXDRdI",
        "outputId": "e1b3a8e7-cf7d-4fff-dfd7-d6ab2c246604",
        "colab": {
          "base_uri": "https://localhost:8080/",
          "height": 75
        }
      },
      "source": [
        "from sklearn.naive_bayes import GaussianNB\n",
        "from sklearn import preprocessing\n",
        "\n",
        "\n",
        "le = preprocessing.LabelEncoder()\n",
        "y_train_numeric = le.fit_transform(y_train)\n",
        "\n",
        "\n",
        "classifier = GaussianNB()\n",
        "classifier.fit(X_train, y_train_numeric)\n"
      ],
      "execution_count": 22,
      "outputs": [
        {
          "output_type": "execute_result",
          "data": {
            "text/plain": [
              "GaussianNB()"
            ],
            "text/html": [
              "<style>#sk-container-id-1 {color: black;background-color: white;}#sk-container-id-1 pre{padding: 0;}#sk-container-id-1 div.sk-toggleable {background-color: white;}#sk-container-id-1 label.sk-toggleable__label {cursor: pointer;display: block;width: 100%;margin-bottom: 0;padding: 0.3em;box-sizing: border-box;text-align: center;}#sk-container-id-1 label.sk-toggleable__label-arrow:before {content: \"▸\";float: left;margin-right: 0.25em;color: #696969;}#sk-container-id-1 label.sk-toggleable__label-arrow:hover:before {color: black;}#sk-container-id-1 div.sk-estimator:hover label.sk-toggleable__label-arrow:before {color: black;}#sk-container-id-1 div.sk-toggleable__content {max-height: 0;max-width: 0;overflow: hidden;text-align: left;background-color: #f0f8ff;}#sk-container-id-1 div.sk-toggleable__content pre {margin: 0.2em;color: black;border-radius: 0.25em;background-color: #f0f8ff;}#sk-container-id-1 input.sk-toggleable__control:checked~div.sk-toggleable__content {max-height: 200px;max-width: 100%;overflow: auto;}#sk-container-id-1 input.sk-toggleable__control:checked~label.sk-toggleable__label-arrow:before {content: \"▾\";}#sk-container-id-1 div.sk-estimator input.sk-toggleable__control:checked~label.sk-toggleable__label {background-color: #d4ebff;}#sk-container-id-1 div.sk-label input.sk-toggleable__control:checked~label.sk-toggleable__label {background-color: #d4ebff;}#sk-container-id-1 input.sk-hidden--visually {border: 0;clip: rect(1px 1px 1px 1px);clip: rect(1px, 1px, 1px, 1px);height: 1px;margin: -1px;overflow: hidden;padding: 0;position: absolute;width: 1px;}#sk-container-id-1 div.sk-estimator {font-family: monospace;background-color: #f0f8ff;border: 1px dotted black;border-radius: 0.25em;box-sizing: border-box;margin-bottom: 0.5em;}#sk-container-id-1 div.sk-estimator:hover {background-color: #d4ebff;}#sk-container-id-1 div.sk-parallel-item::after {content: \"\";width: 100%;border-bottom: 1px solid gray;flex-grow: 1;}#sk-container-id-1 div.sk-label:hover label.sk-toggleable__label {background-color: #d4ebff;}#sk-container-id-1 div.sk-serial::before {content: \"\";position: absolute;border-left: 1px solid gray;box-sizing: border-box;top: 0;bottom: 0;left: 50%;z-index: 0;}#sk-container-id-1 div.sk-serial {display: flex;flex-direction: column;align-items: center;background-color: white;padding-right: 0.2em;padding-left: 0.2em;position: relative;}#sk-container-id-1 div.sk-item {position: relative;z-index: 1;}#sk-container-id-1 div.sk-parallel {display: flex;align-items: stretch;justify-content: center;background-color: white;position: relative;}#sk-container-id-1 div.sk-item::before, #sk-container-id-1 div.sk-parallel-item::before {content: \"\";position: absolute;border-left: 1px solid gray;box-sizing: border-box;top: 0;bottom: 0;left: 50%;z-index: -1;}#sk-container-id-1 div.sk-parallel-item {display: flex;flex-direction: column;z-index: 1;position: relative;background-color: white;}#sk-container-id-1 div.sk-parallel-item:first-child::after {align-self: flex-end;width: 50%;}#sk-container-id-1 div.sk-parallel-item:last-child::after {align-self: flex-start;width: 50%;}#sk-container-id-1 div.sk-parallel-item:only-child::after {width: 0;}#sk-container-id-1 div.sk-dashed-wrapped {border: 1px dashed gray;margin: 0 0.4em 0.5em 0.4em;box-sizing: border-box;padding-bottom: 0.4em;background-color: white;}#sk-container-id-1 div.sk-label label {font-family: monospace;font-weight: bold;display: inline-block;line-height: 1.2em;}#sk-container-id-1 div.sk-label-container {text-align: center;}#sk-container-id-1 div.sk-container {/* jupyter's `normalize.less` sets `[hidden] { display: none; }` but bootstrap.min.css set `[hidden] { display: none !important; }` so we also need the `!important` here to be able to override the default hidden behavior on the sphinx rendered scikit-learn.org. See: https://github.com/scikit-learn/scikit-learn/issues/21755 */display: inline-block !important;position: relative;}#sk-container-id-1 div.sk-text-repr-fallback {display: none;}</style><div id=\"sk-container-id-1\" class=\"sk-top-container\"><div class=\"sk-text-repr-fallback\"><pre>GaussianNB()</pre><b>In a Jupyter environment, please rerun this cell to show the HTML representation or trust the notebook. <br />On GitHub, the HTML representation is unable to render, please try loading this page with nbviewer.org.</b></div><div class=\"sk-container\" hidden><div class=\"sk-item\"><div class=\"sk-estimator sk-toggleable\"><input class=\"sk-toggleable__control sk-hidden--visually\" id=\"sk-estimator-id-1\" type=\"checkbox\" checked><label for=\"sk-estimator-id-1\" class=\"sk-toggleable__label sk-toggleable__label-arrow\">GaussianNB</label><div class=\"sk-toggleable__content\"><pre>GaussianNB()</pre></div></div></div></div></div>"
            ]
          },
          "metadata": {},
          "execution_count": 22
        }
      ]
    },
    {
      "cell_type": "markdown",
      "metadata": {
        "id": "1JaRM7zXDWUy"
      },
      "source": [
        "## Predicting the Test set results"
      ]
    },
    {
      "cell_type": "code",
      "metadata": {
        "id": "Iif0CVhFDaMp",
        "outputId": "25a82dd2-8313-4f36-861d-6c2b694208f7",
        "colab": {
          "base_uri": "https://localhost:8080/"
        }
      },
      "source": [
        "y_pred = classifier.predict(X_test)\n",
        "print(np.concatenate((y_pred.reshape(len(y_pred),1), y_test.reshape(len(y_test),1)),1))"
      ],
      "execution_count": 23,
      "outputs": [
        {
          "output_type": "stream",
          "name": "stdout",
          "text": [
            "[[0 False]\n",
            " [1 True]\n",
            " [1 True]\n",
            " [1 True]\n",
            " [1 True]\n",
            " [1 True]\n",
            " [1 True]\n",
            " [1 True]\n",
            " [1 True]\n",
            " [0 False]\n",
            " [1 False]\n",
            " [0 False]\n",
            " [0 True]\n",
            " [1 False]\n",
            " [0 False]\n",
            " [1 False]\n",
            " [1 False]\n",
            " [1 False]\n",
            " [0 False]\n",
            " [1 True]\n",
            " [0 False]\n",
            " [0 True]\n",
            " [1 True]\n",
            " [1 False]\n",
            " [1 True]\n",
            " [0 False]\n",
            " [1 True]\n",
            " [1 True]\n",
            " [0 False]\n",
            " [1 True]\n",
            " [1 True]\n",
            " [0 False]\n",
            " [1 False]\n",
            " [0 False]\n",
            " [1 False]\n",
            " [1 True]\n",
            " [1 True]\n",
            " [0 True]\n",
            " [1 True]\n",
            " [1 True]\n",
            " [1 True]\n",
            " [1 True]\n",
            " [0 False]\n",
            " [0 False]\n",
            " [0 False]\n",
            " [0 False]\n",
            " [1 True]\n",
            " [1 False]\n",
            " [0 False]\n",
            " [0 True]\n",
            " [0 False]\n",
            " [0 False]\n",
            " [1 True]\n",
            " [1 True]\n",
            " [1 False]\n",
            " [0 False]\n",
            " [0 False]\n",
            " [1 False]\n",
            " [1 True]\n",
            " [1 True]\n",
            " [0 False]\n",
            " [1 False]\n",
            " [1 False]\n",
            " [0 False]\n",
            " [0 False]\n",
            " [1 True]\n",
            " [0 False]\n",
            " [0 True]\n",
            " [1 True]\n",
            " [1 False]\n",
            " [0 False]\n",
            " [1 False]\n",
            " [1 False]\n",
            " [0 False]\n",
            " [0 False]\n",
            " [1 True]\n",
            " [1 True]\n",
            " [0 False]\n",
            " [0 True]\n",
            " [1 False]\n",
            " [0 False]\n",
            " [1 True]\n",
            " [0 False]\n",
            " [1 True]\n",
            " [0 False]\n",
            " [1 True]\n",
            " [1 True]\n",
            " [1 True]\n",
            " [0 False]\n",
            " [0 False]\n",
            " [1 True]\n",
            " [0 False]\n",
            " [1 True]\n",
            " [0 False]\n",
            " [1 True]\n",
            " [1 False]\n",
            " [1 True]\n",
            " [0 True]\n",
            " [1 False]\n",
            " [1 True]\n",
            " [1 True]\n",
            " [1 True]\n",
            " [1 True]\n",
            " [0 False]\n",
            " [1 True]\n",
            " [0 False]\n",
            " [1 True]\n",
            " [0 False]\n",
            " [1 True]\n",
            " [1 True]\n",
            " [1 True]\n",
            " [1 True]\n",
            " [0 False]\n",
            " [0 False]\n",
            " [0 False]\n",
            " [1 True]\n",
            " [0 True]\n",
            " [1 True]\n",
            " [1 True]\n",
            " [1 True]\n",
            " [0 False]\n",
            " [1 True]\n",
            " [1 False]\n",
            " [1 False]\n",
            " [1 True]\n",
            " [0 False]\n",
            " [1 True]\n",
            " [1 False]\n",
            " [1 True]\n",
            " [1 False]\n",
            " [1 True]\n",
            " [0 False]\n",
            " [1 True]\n",
            " [0 False]\n",
            " [1 True]\n",
            " [0 True]\n",
            " [1 False]\n",
            " [1 True]\n",
            " [1 True]\n",
            " [1 False]\n",
            " [0 False]\n",
            " [1 True]\n",
            " [0 True]\n",
            " [1 True]\n",
            " [1 True]\n",
            " [1 True]\n",
            " [1 True]\n",
            " [1 False]\n",
            " [0 True]\n",
            " [1 True]\n",
            " [0 True]\n",
            " [1 False]\n",
            " [0 False]\n",
            " [1 True]\n",
            " [1 True]\n",
            " [1 True]\n",
            " [1 True]\n",
            " [0 False]\n",
            " [1 True]\n",
            " [1 True]\n",
            " [1 True]\n",
            " [0 False]\n",
            " [1 True]\n",
            " [1 True]\n",
            " [0 True]\n",
            " [0 False]\n",
            " [0 False]\n",
            " [0 False]\n",
            " [0 False]\n",
            " [1 True]\n",
            " [0 False]\n",
            " [1 False]\n",
            " [1 True]\n",
            " [1 True]\n",
            " [0 False]\n",
            " [1 True]\n",
            " [1 True]\n",
            " [1 True]\n",
            " [0 False]\n",
            " [0 True]\n",
            " [1 True]\n",
            " [0 False]\n",
            " [1 True]\n",
            " [1 True]\n",
            " [0 False]\n",
            " [1 True]\n",
            " [1 True]\n",
            " [0 False]\n",
            " [1 True]\n",
            " [1 True]\n",
            " [1 True]\n",
            " [1 False]\n",
            " [1 True]\n",
            " [0 False]\n",
            " [0 False]\n",
            " [0 False]\n",
            " [0 False]\n",
            " [0 False]\n",
            " [1 False]\n",
            " [1 True]\n",
            " [1 True]\n",
            " [0 False]\n",
            " [1 True]\n",
            " [1 True]\n",
            " [1 False]\n",
            " [0 True]\n",
            " [0 False]\n",
            " [1 True]\n",
            " [0 False]\n",
            " [1 True]\n",
            " [1 True]\n",
            " [0 False]\n",
            " [0 False]\n",
            " [1 True]\n",
            " [1 True]\n",
            " [0 True]\n",
            " [1 False]\n",
            " [0 False]\n",
            " [1 False]\n",
            " [1 False]\n",
            " [1 False]\n",
            " [1 True]\n",
            " [1 False]\n",
            " [1 True]\n",
            " [1 False]\n",
            " [1 True]\n",
            " [1 False]\n",
            " [0 False]\n",
            " [1 True]\n",
            " [1 False]\n",
            " [0 False]\n",
            " [0 False]\n",
            " [0 False]\n",
            " [1 True]\n",
            " [0 False]\n",
            " [1 False]\n",
            " [1 False]\n",
            " [1 True]\n",
            " [0 False]\n",
            " [0 False]\n",
            " [1 True]\n",
            " [1 False]\n",
            " [0 False]\n",
            " [1 True]\n",
            " [1 False]\n",
            " [0 False]\n",
            " [0 False]\n",
            " [1 True]\n",
            " [0 False]\n",
            " [1 True]\n",
            " [1 True]\n",
            " [1 True]\n",
            " [1 True]\n",
            " [1 True]\n",
            " [1 True]\n",
            " [0 False]\n",
            " [1 False]\n",
            " [1 False]\n",
            " [1 True]\n",
            " [1 True]\n",
            " [1 True]\n",
            " [0 False]\n",
            " [1 True]\n",
            " [0 False]\n",
            " [0 False]\n",
            " [0 False]\n",
            " [0 False]\n",
            " [1 True]\n",
            " [1 True]\n",
            " [0 False]\n",
            " [1 False]\n",
            " [0 True]\n",
            " [0 False]\n",
            " [1 True]\n",
            " [1 True]\n",
            " [1 True]\n",
            " [1 True]\n",
            " [0 False]\n",
            " [1 True]\n",
            " [0 False]\n",
            " [0 False]\n",
            " [1 True]\n",
            " [1 True]\n",
            " [1 True]\n",
            " [0 False]\n",
            " [0 False]\n",
            " [1 False]\n",
            " [1 True]\n",
            " [1 True]\n",
            " [0 False]\n",
            " [1 False]\n",
            " [1 True]\n",
            " [0 False]\n",
            " [1 True]\n",
            " [1 False]\n",
            " [0 True]\n",
            " [1 True]\n",
            " [1 True]\n",
            " [0 False]\n",
            " [1 True]\n",
            " [1 False]\n",
            " [0 False]\n",
            " [0 True]\n",
            " [1 False]\n",
            " [0 False]\n",
            " [1 True]\n",
            " [1 True]\n",
            " [0 False]\n",
            " [0 True]\n",
            " [0 False]\n",
            " [0 False]\n",
            " [1 True]\n",
            " [0 False]\n",
            " [0 True]\n",
            " [0 False]\n",
            " [1 True]\n",
            " [0 False]\n",
            " [1 True]\n",
            " [1 True]\n",
            " [1 False]\n",
            " [0 False]\n",
            " [0 False]\n",
            " [0 False]\n",
            " [1 False]\n",
            " [1 True]\n",
            " [1 True]\n",
            " [0 True]\n",
            " [0 False]\n",
            " [1 False]\n",
            " [0 False]\n",
            " [1 False]\n",
            " [0 True]\n",
            " [0 False]\n",
            " [1 True]\n",
            " [1 False]\n",
            " [1 True]\n",
            " [1 True]\n",
            " [0 False]\n",
            " [0 True]\n",
            " [1 True]\n",
            " [0 False]\n",
            " [0 False]\n",
            " [0 False]\n",
            " [1 True]\n",
            " [1 True]\n",
            " [1 False]\n",
            " [0 True]\n",
            " [0 True]\n",
            " [1 True]\n",
            " [1 True]\n",
            " [0 False]\n",
            " [1 True]\n",
            " [0 False]\n",
            " [0 False]\n",
            " [1 False]\n",
            " [0 False]\n",
            " [1 True]\n",
            " [0 False]\n",
            " [1 False]\n",
            " [0 False]\n",
            " [0 False]\n",
            " [1 True]\n",
            " [0 False]\n",
            " [1 True]\n",
            " [1 False]\n",
            " [0 False]\n",
            " [1 False]\n",
            " [1 False]\n",
            " [1 True]\n",
            " [0 False]\n",
            " [0 False]\n",
            " [0 False]\n",
            " [1 True]\n",
            " [0 False]\n",
            " [0 False]\n",
            " [0 False]\n",
            " [0 True]\n",
            " [1 True]\n",
            " [0 False]\n",
            " [1 False]\n",
            " [0 False]\n",
            " [1 True]\n",
            " [1 True]\n",
            " [1 True]\n",
            " [1 True]\n",
            " [0 False]\n",
            " [1 True]\n",
            " [1 False]\n",
            " [1 False]\n",
            " [1 True]\n",
            " [1 False]\n",
            " [1 True]\n",
            " [0 False]\n",
            " [0 False]\n",
            " [1 False]\n",
            " [1 True]\n",
            " [0 False]\n",
            " [1 True]\n",
            " [0 False]\n",
            " [0 False]]\n"
          ]
        }
      ]
    },
    {
      "cell_type": "markdown",
      "metadata": {
        "id": "xoMltea5Dir1"
      },
      "source": [
        "## Making the Confusion Matrix"
      ]
    },
    {
      "cell_type": "code",
      "metadata": {
        "id": "Xj9IU6MxDnvo",
        "outputId": "47450d36-5739-436b-d256-06d459978dd1",
        "colab": {
          "base_uri": "https://localhost:8080/"
        }
      },
      "source": [
        "from sklearn.metrics import confusion_matrix, accuracy_score\n",
        "y_pred = classifier.predict(X_test)\n",
        "\n",
        "# Convert boolean labels to integers if necessary\n",
        "le = preprocessing.LabelEncoder()\n",
        "y_test_numeric = le.fit_transform(y_test)\n",
        "\n",
        "# Calculate confusion matrix and accuracy\n",
        "cm = confusion_matrix(y_test_numeric, y_pred)\n",
        "accuracy = accuracy_score(y_test_numeric, y_pred)\n",
        "\n",
        "print(\"Confusion Matrix:\")\n",
        "print(cm)\n",
        "print(\"\\nAccuracy Score:\", accuracy)"
      ],
      "execution_count": 27,
      "outputs": [
        {
          "output_type": "stream",
          "name": "stdout",
          "text": [
            "Confusion Matrix:\n",
            "[[137  67]\n",
            " [ 27 169]]\n",
            "\n",
            "Accuracy Score: 0.765\n"
          ]
        }
      ]
    }
  ]
}